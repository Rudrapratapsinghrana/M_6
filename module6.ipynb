{
  "nbformat": 4,
  "nbformat_minor": 0,
  "metadata": {
    "colab": {
      "provenance": []
    },
    "kernelspec": {
      "name": "python3",
      "display_name": "Python 3"
    },
    "language_info": {
      "name": "python"
    }
  },
  "cells": [
    {
      "cell_type": "markdown",
      "source": [
        "# Files, exceptional handling, logging and memory management Assignment Questions\n",
        "\n",
        "\n",
        "Q1=> What is the difference between interpreted and compiled languages?\n",
        "\n",
        "=>Interpreted languages execute code line-by-line, while compiled languages convert code into machine language before execution.  \n",
        "\n",
        "Q2=> What is exception handling in Python?\n",
        "\n",
        "=>It allows handling runtime errors using `try`, `except`, `finally`, and `else` blocks.\n",
        "\n",
        "Q3=> What is the purpose of the finally block in exception handling?\n",
        "\n",
        "=>It ensures code execution regardless of whether an exception occurs or not.\n",
        "\n",
        "Q4=> What is logging in Python?\n",
        "\n",
        "=>It is used to track events and errors in a program systematically.\n",
        "\n",
        "Q5=> What is the significance of the __del__ method in Python?\n",
        "\n",
        "=>It defines a destructor that gets called when an object is garbage collected.\n",
        "\n",
        "Q6=> What is the difference between import and from ... import in Python?\n",
        "\n",
        "=> `import` imports the whole module, while `from ... import` imports specific attributes.  \n",
        "\n",
        "Q7=> How can you handle multiple exceptions in Python?\n",
        "\n",
        "=>Use multiple `except` blocks or `except (Exception1, Exception2) as e:` syntax.\n",
        "\n",
        "Q8=> What is the purpose of the with statement when handling files in Python?\n",
        "\n",
        "=>It ensures the file is properly closed after use, even if an error occurs.   \n",
        "\n",
        "Q9=> What is the difference between multithreading and multiprocessing?\n",
        "\n",
        "=>Multithreading runs threads within a single process, while multiprocessing runs separate processes.  \n",
        "\n",
        "Q10=> What are the advantages of using logging in a program?\n",
        "\n",
        "=> It helps in debugging, monitoring, and tracking application performance.\n",
        "\n",
        "Q11=> What is memory management in Python?\n",
        "\n",
        "=> Python uses automatic garbage collection and reference counting.\n",
        "\n",
        "Q12=> What are the basic steps involved in exception handling in Python?\n",
        "\n",
        "=> Use `try` block for code, `except` block for handling errors, `else` for successful execution, and `finally` for cleanup.\n",
        "\n",
        "Q13=> Why is memory management important in Python?\n",
        "=>It optimizes performance by preventing memory leaks and excessive usage.  \n",
        "  \n",
        "Q14=> What is the role of try and except in exception handling?\n",
        "\n",
        "=> `try` encloses risky code, and `except` catches and handles exceptions.\n",
        "\n",
        "Q15=> How does Python's garbage collection system work?\n",
        "\n",
        "=> It uses reference counting and cyclic garbage collection to free unused memory.\n",
        "\n",
        "Q16=> What is the purpose of the else block in exception handling?\n",
        "\n",
        "=>It executes code only if no exception occurs.\n",
        "\n",
        "Q17=> What are the common logging levels in Python?\n",
        "\n",
        "=> DEBUG, INFO, WARNING, ERROR, CRITICAL.  \n",
        "\n",
        "Q18=> What is the difference between os.fork() and multiprocessing in Python?\n",
        "\n",
        "=>`os.fork()` creates a new process at the OS level, while multiprocessing uses the `multiprocessing` module for process creation.\n",
        "\n",
        "Q19=> What is the importance of closing a file in Python?\n",
        "\n",
        "=> It releases system resources and prevents data corruption.\n",
        "\n",
        "Q20=> What is the difference between file.read() and file.readline() in Python?\n",
        "\n",
        "=>`file.read()` reads the whole file, while `file.readline()` reads one line at a time.\n",
        "\n",
        "Q21=> What is the logging module in Python used for?\n",
        "\n",
        "=> It provides a way to log messages for debugging and tracking program flow\n",
        "\n",
        "Q22=> What is the os module in Python used for in file handling?\n",
        "\n",
        "=>It provides functions to interact with the operating system, such as file and directory manipulation.  \n",
        "\n",
        "Q23=> What are the challenges associated with memory management in Python?\n",
        "\n",
        "=>Memory fragmentation, cyclic references, and high memory consumption.\n",
        "\n",
        "Q24=>  How do you raise an exception manually in Python?\n",
        "  \n",
        "=> Use `raise Exception(\"Error message\")`.  \n",
        "\n",
        "Q25=> Why is it important to use multithreading in certain applications?\n",
        "\n",
        "=>It improves performance in I/O-bound applications by running multiple threads concurrently."
      ],
      "metadata": {
        "id": "Hk6jQEv-RJm_"
      }
    },
    {
      "cell_type": "code",
      "execution_count": 1,
      "metadata": {
        "id": "IOZ0OvwlQvwK"
      },
      "outputs": [],
      "source": [
        "# Q1=> How can you open a file for writing in Python and write a string to it?\n",
        "\n",
        "with open(\"example.txt\", \"w\") as file:\n",
        "    file.write(\"Hello, this is a test string.\")\n",
        "\n"
      ]
    },
    {
      "cell_type": "code",
      "source": [
        "# Q2=> Write a Python program to read the contents of a file and print each line?\n",
        "\n",
        "with open(\"example.txt\", \"r\") as file:\n",
        "    for line in file:\n",
        "        print(line.strip())\n",
        "\n"
      ],
      "metadata": {
        "colab": {
          "base_uri": "https://localhost:8080/"
        },
        "id": "hFWtpcQMWBgv",
        "outputId": "12941ee7-4a66-4ca3-df97-3f3474051fe9"
      },
      "execution_count": 2,
      "outputs": [
        {
          "output_type": "stream",
          "name": "stdout",
          "text": [
            "Hello, this is a test string.\n"
          ]
        }
      ]
    },
    {
      "cell_type": "code",
      "source": [
        "# Q3=> How would you handle a case where the file doesn't exist while trying to open it for reading?\n",
        "\n",
        "try:\n",
        "    with open(\"example.txt\", \"r\") as file:\n",
        "        for line in file:\n",
        "            print(line.strip())\n",
        "except FileNotFoundError:\n",
        "    print(\"The file does not exist.\")\n"
      ],
      "metadata": {
        "colab": {
          "base_uri": "https://localhost:8080/"
        },
        "id": "I45BiEllWKgb",
        "outputId": "f5b37654-dff2-4fdb-87c5-a83da47aafda"
      },
      "execution_count": 3,
      "outputs": [
        {
          "output_type": "stream",
          "name": "stdout",
          "text": [
            "Hello, this is a test string.\n"
          ]
        }
      ]
    },
    {
      "cell_type": "code",
      "source": [
        "# Q4=> Write a Python script that reads from one file and writes its content to another file?\n",
        "with open(\"source.txt\", \"r\") as source_file:\n",
        "\n",
        "    with open(\"destination.txt\", \"w\") as destination_file:\n",
        "\n",
        "        for line in source_file:\n",
        "            destination_file.write(line)\n"
      ],
      "metadata": {
        "colab": {
          "base_uri": "https://localhost:8080/",
          "height": 228
        },
        "collapsed": true,
        "id": "1cNqRqXGWP1p",
        "outputId": "74d7f650-8a6d-4248-b0c6-b1feb9d92e59"
      },
      "execution_count": 5,
      "outputs": [
        {
          "output_type": "error",
          "ename": "FileNotFoundError",
          "evalue": "[Errno 2] No such file or directory: 'source.txt'",
          "traceback": [
            "\u001b[0;31m---------------------------------------------------------------------------\u001b[0m",
            "\u001b[0;31mFileNotFoundError\u001b[0m                         Traceback (most recent call last)",
            "\u001b[0;32m<ipython-input-5-2dd310d3c345>\u001b[0m in \u001b[0;36m<cell line: 0>\u001b[0;34m()\u001b[0m\n\u001b[1;32m      1\u001b[0m \u001b[0;31m# Q4=> Write a Python script that reads from one file and writes its content to another file?\u001b[0m\u001b[0;34m\u001b[0m\u001b[0;34m\u001b[0m\u001b[0m\n\u001b[0;32m----> 2\u001b[0;31m \u001b[0;32mwith\u001b[0m \u001b[0mopen\u001b[0m\u001b[0;34m(\u001b[0m\u001b[0;34m\"source.txt\"\u001b[0m\u001b[0;34m,\u001b[0m \u001b[0;34m\"r\"\u001b[0m\u001b[0;34m)\u001b[0m \u001b[0;32mas\u001b[0m \u001b[0msource_file\u001b[0m\u001b[0;34m:\u001b[0m\u001b[0;34m\u001b[0m\u001b[0;34m\u001b[0m\u001b[0m\n\u001b[0m\u001b[1;32m      3\u001b[0m \u001b[0;34m\u001b[0m\u001b[0m\n\u001b[1;32m      4\u001b[0m     \u001b[0;32mwith\u001b[0m \u001b[0mopen\u001b[0m\u001b[0;34m(\u001b[0m\u001b[0;34m\"destination.txt\"\u001b[0m\u001b[0;34m,\u001b[0m \u001b[0;34m\"w\"\u001b[0m\u001b[0;34m)\u001b[0m \u001b[0;32mas\u001b[0m \u001b[0mdestination_file\u001b[0m\u001b[0;34m:\u001b[0m\u001b[0;34m\u001b[0m\u001b[0;34m\u001b[0m\u001b[0m\n\u001b[1;32m      5\u001b[0m \u001b[0;34m\u001b[0m\u001b[0m\n",
            "\u001b[0;31mFileNotFoundError\u001b[0m: [Errno 2] No such file or directory: 'source.txt'"
          ]
        }
      ]
    },
    {
      "cell_type": "code",
      "source": [
        "# Q5=> How would you catch and handle division by zero error in Python?\n",
        "\n",
        "try:\n",
        "    result = 10 / 0  # This will raise a ZeroDivisionError\n",
        "except ZeroDivisionError:\n",
        "    print(\"Error: Division by zero is not allowed.\")\n"
      ],
      "metadata": {
        "colab": {
          "base_uri": "https://localhost:8080/"
        },
        "id": "jPfy3AcFWXqY",
        "outputId": "2fafb4f8-68d8-433b-accd-ece47f833b3f"
      },
      "execution_count": 6,
      "outputs": [
        {
          "output_type": "stream",
          "name": "stdout",
          "text": [
            "Error: Division by zero is not allowed.\n"
          ]
        }
      ]
    },
    {
      "cell_type": "code",
      "source": [
        "# Q6 Write a Python program that logs an error message to a log file when a division by zero exception occurs?\n",
        "import logging\n",
        "\n",
        "\n",
        "logging.basicConfig(filename='error_log.txt', level=logging.ERROR)\n",
        "\n",
        "try:\n",
        "    result = 10 / 0\n",
        "except ZeroDivisionError as e:\n",
        "    logging.error(f\"Error: {e} - Division by zero occurred.\")\n",
        "    print(\"An error occurred. Check the log file for details.\")\n"
      ],
      "metadata": {
        "colab": {
          "base_uri": "https://localhost:8080/"
        },
        "id": "1iWhfzJcWbrx",
        "outputId": "4d81ccc8-d291-4133-92f7-2c36c19e1133"
      },
      "execution_count": 7,
      "outputs": [
        {
          "output_type": "stream",
          "name": "stderr",
          "text": [
            "ERROR:root:Error: division by zero - Division by zero occurred.\n"
          ]
        },
        {
          "output_type": "stream",
          "name": "stdout",
          "text": [
            "An error occurred. Check the log file for details.\n"
          ]
        }
      ]
    },
    {
      "cell_type": "code",
      "source": [
        "# Q7=> How do you log information at different levels (INFO, ERROR, WARNING) in Python using the logging module?\n",
        "import logging\n",
        "\n",
        "logging.basicConfig(filename='app.log', level=logging.DEBUG)\n",
        "\n",
        "logging.debug(\"This is a debug message.\")\n",
        "logging.info(\"This is an info message.\")\n",
        "logging.warning(\"This is a warning message.\")\n",
        "logging.error(\"This is an error message.\")\n",
        "logging.critical(\"This is a critical message.\")\n"
      ],
      "metadata": {
        "colab": {
          "base_uri": "https://localhost:8080/"
        },
        "id": "cjGR1otyWboT",
        "outputId": "386ae5c6-bb23-4d79-9845-e662ac01032d"
      },
      "execution_count": 8,
      "outputs": [
        {
          "output_type": "stream",
          "name": "stderr",
          "text": [
            "WARNING:root:This is a warning message.\n",
            "ERROR:root:This is an error message.\n",
            "CRITICAL:root:This is a critical message.\n"
          ]
        }
      ]
    },
    {
      "cell_type": "code",
      "source": [
        "# Q8=> Write a program to handle a file opening error using exception handling?\n",
        "\n",
        "try:\n",
        "    with open(\"non_existent_file.txt\", \"r\") as file:\n",
        "        content = file.read()\n",
        "        print(content)\n",
        "except FileNotFoundError:\n",
        "    print(\"Error: The file does not exist.\")\n",
        "except PermissionError:\n",
        "    print(\"Error: You do not have permission to open the file.\")\n",
        "except Exception as e:\n",
        "    print(f\"An unexpected error occurred: {e}\")\n"
      ],
      "metadata": {
        "colab": {
          "base_uri": "https://localhost:8080/"
        },
        "id": "if0Kiw9wWt88",
        "outputId": "5aa570fd-535d-4aaa-b8a9-29b132068ea0"
      },
      "execution_count": 9,
      "outputs": [
        {
          "output_type": "stream",
          "name": "stdout",
          "text": [
            "Error: The file does not exist.\n"
          ]
        }
      ]
    },
    {
      "cell_type": "code",
      "source": [
        "# Q9=> How can you read a file line by line and store its content in a list in Python?\n",
        "\n",
        "with open(\"example.txt\", \"r\") as file:\n",
        "    lines = file.readlines()\n",
        "    for line in lines:\n",
        "        print(line.strip())"
      ],
      "metadata": {
        "colab": {
          "base_uri": "https://localhost:8080/"
        },
        "id": "jjIeAIBzWblW",
        "outputId": "e3121114-3ac7-433d-c1bb-e5b606cd895e"
      },
      "execution_count": 10,
      "outputs": [
        {
          "output_type": "stream",
          "name": "stdout",
          "text": [
            "Hello, this is a test string.\n"
          ]
        }
      ]
    },
    {
      "cell_type": "code",
      "source": [
        "\n",
        "# Q10=> How can you append data to an existing file in Python?\n",
        "with open(\"example.txt\", \"a\") as file:\n",
        "    file.write(\"\\nAppended line.\")"
      ],
      "metadata": {
        "id": "xdBEnaaoWbil"
      },
      "execution_count": 11,
      "outputs": []
    },
    {
      "cell_type": "code",
      "source": [
        "\n",
        "# Q11=> How can you read a file line by line and store its content in a list in Python?\n",
        "with open(\"example.txt\", \"r\") as file:\n",
        "    lines = file.readlines()\n",
        "    for line in lines:\n",
        "        print(line.strip())"
      ],
      "metadata": {
        "colab": {
          "base_uri": "https://localhost:8080/"
        },
        "id": "b_TpkJSsWbgA",
        "outputId": "dd3fe686-1604-49ca-c11e-4daea60746e6"
      },
      "execution_count": 12,
      "outputs": [
        {
          "output_type": "stream",
          "name": "stdout",
          "text": [
            "Hello, this is a test string.\n",
            "Appended line.\n"
          ]
        }
      ]
    },
    {
      "cell_type": "code",
      "source": [
        "\n",
        "# Q12=> How can you append data to an existing file in Python?\n",
        "with open(\"example.txt\", \"a\") as file:\n",
        "    file.write(\"\\nAppended line.\")"
      ],
      "metadata": {
        "id": "Zwli0pb9WbdP"
      },
      "execution_count": 13,
      "outputs": []
    },
    {
      "cell_type": "code",
      "source": [
        "\n",
        "# Q13=> Write a Python program that uses a try-except block to handle an error when attempting to access a dictionary key that doesn't exist?\n",
        "my_dict = {\"a\": 1, \"b\": 2, \"c\": 3}\n",
        "\n",
        "try:\n",
        "    value = my_dict[\"d\"]\n",
        "except KeyError:\n",
        "    print(\"Error: Key not found in the dictionary.\")"
      ],
      "metadata": {
        "colab": {
          "base_uri": "https://localhost:8080/"
        },
        "id": "i0BNdU6FWbaa",
        "outputId": "e71decfc-b0c3-4855-ccba-7603758181ed"
      },
      "execution_count": 14,
      "outputs": [
        {
          "output_type": "stream",
          "name": "stdout",
          "text": [
            "Error: Key not found in the dictionary.\n"
          ]
        }
      ]
    },
    {
      "cell_type": "code",
      "source": [
        "\n",
        "# Q14=> Write a program that demonstrates using multiple except blocks to handle different types of exceptions?\n",
        "try:\n",
        "    result = 10 / 0\n",
        "except ZeroDivisionError:\n",
        "    print(\"Error: Division by zero.\")\n",
        "except ValueError:\n",
        "    print(\"Error: Invalid value.\")\n",
        "except Exception as e:\n",
        "    print(f\"An unexpected error occurred: {e}\")"
      ],
      "metadata": {
        "colab": {
          "base_uri": "https://localhost:8080/"
        },
        "id": "SblsCh_iWbXd",
        "outputId": "2401f942-a7ce-4776-b52b-5a87638d179a"
      },
      "execution_count": 15,
      "outputs": [
        {
          "output_type": "stream",
          "name": "stdout",
          "text": [
            "Error: Division by zero.\n"
          ]
        }
      ]
    },
    {
      "cell_type": "code",
      "source": [
        "\n",
        "# Q15=> How would you check if a file exists before attempting to read it in Python?\n",
        "import os\n",
        "\n",
        "file_path = \"example.txt\"\n",
        "\n",
        "if os.path.exists(file_path):\n",
        "    with open(file_path, \"r\") as file:\n",
        "        content = file.read()\n",
        "        print(content)"
      ],
      "metadata": {
        "colab": {
          "base_uri": "https://localhost:8080/"
        },
        "id": "aFY717W3WbUa",
        "outputId": "ea3e4071-a543-4ada-94b9-a88005b9a7e4"
      },
      "execution_count": 16,
      "outputs": [
        {
          "output_type": "stream",
          "name": "stdout",
          "text": [
            "Hello, this is a test string.\n",
            "Appended line.\n",
            "Appended line.\n"
          ]
        }
      ]
    },
    {
      "cell_type": "code",
      "source": [
        "\n",
        "# Q16=> Write a program that uses the logging module to log both informational and error messages?\n",
        "import logging\n",
        "\n",
        "logging.basicConfig(filename='app.log', level=logging.INFO)\n",
        "\n",
        "logging.info(\"This is an informational message.\")\n",
        "logging.error(\"This is an error message.\")"
      ],
      "metadata": {
        "colab": {
          "base_uri": "https://localhost:8080/"
        },
        "id": "IRhRL6WUWbRq",
        "outputId": "6f7b7cf2-f4bb-4628-a490-a347f212eaea"
      },
      "execution_count": 17,
      "outputs": [
        {
          "output_type": "stream",
          "name": "stderr",
          "text": [
            "ERROR:root:This is an error message.\n"
          ]
        }
      ]
    },
    {
      "cell_type": "code",
      "source": [
        "# q17=> Write a Python program that prints the content of a file and handles the case when the file is empty?\n",
        "try:\n",
        "    with open(\"example.txt\", \"r\") as file:\n",
        "        content = file.read()\n",
        "        if content:\n",
        "            print(content)\n",
        "        else:\n",
        "            print(\"The file is empty.\")\n",
        "except FileNotFoundError:\n",
        "    print(\"The file does not exist.\")"
      ],
      "metadata": {
        "colab": {
          "base_uri": "https://localhost:8080/"
        },
        "id": "u6QXWG9xXPoS",
        "outputId": "bd49d1d1-0750-4bd2-faa9-03332ce47b1b"
      },
      "execution_count": 19,
      "outputs": [
        {
          "output_type": "stream",
          "name": "stdout",
          "text": [
            "Hello, this is a test string.\n",
            "Appended line.\n",
            "Appended line.\n"
          ]
        }
      ]
    },
    {
      "cell_type": "code",
      "source": [
        "# Q18=> Demonstrate how to use memory profiling to check the memory usage of a small program?\n",
        "pip install memory-profiler\n",
        "\n",
        "from memory_profiler import profile\n",
        "\n",
        "@profile\n",
        "def my_function():\n",
        "    a = [1] * (10**6)  # List with 1 million elements\n",
        "    b = [2] * (2 * 10**7)  # List with 20 million elements\n",
        "    del b  # Remove the second list\n",
        "    return a\n",
        "\n",
        "if __name__ == \"__main__\":\n",
        "    my_function()\n",
        "\n"
      ],
      "metadata": {
        "id": "CCX8sMPqXPkt"
      },
      "execution_count": null,
      "outputs": []
    },
    {
      "cell_type": "code",
      "source": [
        "\n",
        "# Q19=> Write a Python program to create and write a list of numbers to a file, one number per line?\n",
        "with open(\"numbers.txt\", \"w\") as file:\n",
        "    numbers = [1, 2, 3, 4, 5]\n",
        "    for num in numbers:\n",
        "        file.write(str(num) + \"\\n\")"
      ],
      "metadata": {
        "id": "y4Ac9QbyXPeO"
      },
      "execution_count": 20,
      "outputs": []
    },
    {
      "cell_type": "code",
      "source": [
        "\n",
        "# Q20=> How would you implement a basic logging setup that logs to a file with rotation after 1MB?\n",
        "import logging\n",
        "from logging.handlers import RotatingFileHandler\n",
        "\n",
        "logger = logging.getLogger(\"my_logger\")\n",
        "logger.setLevel(logging.INFO)\n",
        "\n"
      ],
      "metadata": {
        "id": "5MjPauv-XPbE"
      },
      "execution_count": 21,
      "outputs": []
    },
    {
      "cell_type": "code",
      "source": [
        "# Q21=> Write a program that handles both IndexError and KeyError using a try-except block?\n",
        "\n",
        "try:\n",
        "\n",
        "    my_list = [1, 2, 3]\n",
        "    print(my_list[5])\n",
        "\n",
        "\n",
        "    my_dict = {'a': 1, 'b': 2}\n",
        "    print(my_dict['c'])\n",
        "\n",
        "except IndexError as e:\n",
        "    print(f\"IndexError occurred: {e}\")\n",
        "\n",
        "except KeyError as e:\n",
        "    print(f\"KeyError occurred: {e}\")\n"
      ],
      "metadata": {
        "colab": {
          "base_uri": "https://localhost:8080/"
        },
        "id": "fepcdDx2XPX2",
        "outputId": "8c47b770-84c4-46a6-caf9-e42e5d40e7aa"
      },
      "execution_count": 22,
      "outputs": [
        {
          "output_type": "stream",
          "name": "stdout",
          "text": [
            "IndexError occurred: list index out of range\n"
          ]
        }
      ]
    },
    {
      "cell_type": "code",
      "source": [
        "\n",
        "# Q22=> How would you open a file and read its contents using a context manager in Python?\n",
        "\n",
        "with open(\"example.txt\", \"r\") as file:\n",
        "    content = file.read()\n",
        "    print(content)\n"
      ],
      "metadata": {
        "colab": {
          "base_uri": "https://localhost:8080/"
        },
        "id": "npCDEMhaWbGa",
        "outputId": "5c36dd90-87fc-40db-e264-6550c6fd75fa"
      },
      "execution_count": 23,
      "outputs": [
        {
          "output_type": "stream",
          "name": "stdout",
          "text": [
            "Hello, this is a test string.\n",
            "Appended line.\n",
            "Appended line.\n"
          ]
        }
      ]
    },
    {
      "cell_type": "code",
      "source": [
        "\n",
        "# Q23=> Write a Python program that reads a file and prints the number of occurrences of a specific word?\n",
        "def count_word_occurrences(file_name, word_to_count):\n",
        "    try:\n",
        "        with open(file_name, 'r') as file:\n",
        "            content = file.read()\n",
        "            word_count = content.lower().split().count(word_to_count.lower())\n",
        "        return word_count\n",
        "    except FileNotFoundError:\n",
        "        print(f\"Error: The file '{file_name}' was not found.\")\n",
        "        return 0\n",
        "\n",
        "\n",
        "file_name = \"example.txt\"\n",
        "word_to_count = \"hello\"\n",
        "count = count_word_occurrences(file_name, word_to_count)\n",
        "print(f\"The word '{word_to_count}' occurs {count} times in the file.\")\n"
      ],
      "metadata": {
        "colab": {
          "base_uri": "https://localhost:8080/"
        },
        "id": "FRTKLRYwXgIN",
        "outputId": "45f2d97c-fd35-467c-933f-8ddf74bfc883"
      },
      "execution_count": 24,
      "outputs": [
        {
          "output_type": "stream",
          "name": "stdout",
          "text": [
            "The word 'hello' occurs 0 times in the file.\n"
          ]
        }
      ]
    },
    {
      "cell_type": "code",
      "source": [
        "\n",
        "# Q24=> How can you check if a file is empty before attempting to read its contents?\n",
        "\n",
        "import os\n",
        "\n",
        "def is_file_empty(file_name):\n",
        "    return os.stat(file_name).st_size == 0\n",
        "\n",
        "def read_file_if_not_empty(file_name):\n",
        "    if is_file_empty(file_name):\n",
        "        print(f\"The file '{file_name}' is empty.\")\n",
        "    else:\n",
        "        with open(file_name, 'r') as file:\n",
        "            content = file.read()\n",
        "            print(content)\n",
        "\n",
        "\n",
        "file_name = \"example.txt\"\n",
        "read_file_if_not_empty(file_name)\n"
      ],
      "metadata": {
        "id": "PGImmZUxXf--"
      },
      "execution_count": null,
      "outputs": []
    },
    {
      "cell_type": "code",
      "source": [
        "\n",
        "# Q25=> Write a Python program that writes to a log file when an error occurs during file handling.\n",
        "\n",
        "import logging\n",
        "\n",
        "# Setting up the logging configuration\n",
        "logging.basicConfig(filename='error_log.txt', level=logging.ERROR,\n",
        "                    format='%(asctime)s - %(levelname)s - %(message)s')\n",
        "\n",
        "def read_file(file_name):\n",
        "    try:\n",
        "        with open(file_name, 'r') as file:\n",
        "            content = file.read()\n",
        "            print(content)\n",
        "    except FileNotFoundError:\n",
        "        error_message = f\"Error: The file '{file_name}' was not found.\"\n",
        "        logging.error(error_message)\n",
        "        print(error_message)\n",
        "    except PermissionError:\n",
        "        error_message = f\"Error: You do not have permission to open the file '{file_name}'.\"\n",
        "        logging.error(error_message)\n",
        "        print(error_message)\n",
        "    except Exception as e:\n",
        "        error_message = f\"An unexpected error occurred: {e}\"\n",
        "        logging.error(error_message)\n",
        "        print(error_message)\n",
        "\n",
        "\n",
        "file_name = \"non_existent_file.txt\"\n",
        "read_file(file_name)\n",
        "\n"
      ],
      "metadata": {
        "colab": {
          "base_uri": "https://localhost:8080/"
        },
        "id": "6D5HmGwrXf2s",
        "outputId": "9a14e845-8e42-4e35-a9e5-0aede538be4d"
      },
      "execution_count": 25,
      "outputs": [
        {
          "output_type": "stream",
          "name": "stderr",
          "text": [
            "ERROR:root:Error: The file 'non_existent_file.txt' was not found.\n"
          ]
        },
        {
          "output_type": "stream",
          "name": "stdout",
          "text": [
            "Error: The file 'non_existent_file.txt' was not found.\n"
          ]
        }
      ]
    }
  ]
}